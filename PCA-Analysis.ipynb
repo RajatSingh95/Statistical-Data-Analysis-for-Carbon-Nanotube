{
 "cells": [
  {
   "cell_type": "code",
   "execution_count": 2,
   "metadata": {},
   "outputs": [
    {
     "data": {
      "text/plain": [
       "'\\n    PCA\\n'"
      ]
     },
     "execution_count": 2,
     "metadata": {},
     "output_type": "execute_result"
    }
   ],
   "source": [
    "'''\n",
    "    PCA\n",
    "'''"
   ]
  },
  {
   "cell_type": "code",
   "execution_count": 9,
   "metadata": {},
   "outputs": [],
   "source": [
    "import numpy as np\n",
    "import pandas as pd\n",
    "import seaborn as sns\n",
    "from matplotlib.pyplot import plot\n",
    "%matplotlib inline\n",
    "\n",
    "from sklearn.decomposition import PCA\n",
    "\n",
    "from sklearn.linear_model import LinearRegression\n",
    "from sklearn.metrics import accuracy_score, roc_auc_score\n",
    "from sklearn.model_selection import train_test_split"
   ]
  },
  {
   "cell_type": "code",
   "execution_count": 4,
   "metadata": {},
   "outputs": [],
   "source": [
    "# MODIFYING DATA\n",
    "\n",
    "data = pd.read_csv('carbon_nanotubes.csv', sep=';')\n",
    "\n",
    "cols = data.columns\n",
    "\n",
    "for col in cols[2:]:\n",
    "    data[col] = data[col].str.replace(',', '.')\n",
    "    data[col] = data[col].astype(float)"
   ]
  },
  {
   "cell_type": "code",
   "execution_count": 5,
   "metadata": {},
   "outputs": [
    {
     "data": {
      "text/plain": [
       "PCA(copy=True, iterated_power='auto', n_components=5, random_state=None,\n",
       "  svd_solver='auto', tol=0.0, whiten=False)"
      ]
     },
     "execution_count": 5,
     "metadata": {},
     "output_type": "execute_result"
    }
   ],
   "source": [
    "X = data.iloc[:, :5]\n",
    "Y = data.iloc[:, 5:]\n",
    "\n",
    "pca = PCA(n_components=5)\n",
    "pca.fit(X) "
   ]
  },
  {
   "cell_type": "code",
   "execution_count": 6,
   "metadata": {},
   "outputs": [
    {
     "data": {
      "text/plain": [
       "array([[ 6.21606245, -2.36266666,  0.26962902, -0.4826454 ,  0.01610612],\n",
       "       [ 6.21604799, -2.36275527,  0.25442926, -0.26844506, -0.05299783],\n",
       "       [ 6.21603942, -2.36270964, -0.1457375 , -0.41217012, -0.13099872],\n",
       "       ...,\n",
       "       [-3.76325628,  2.67825267,  0.34776337,  0.32157834, -0.25113634],\n",
       "       [-3.76326204,  2.67820464,  0.37903161,  0.44070109, -0.2354951 ],\n",
       "       [-3.76325952,  2.67819741,  0.46011215,  0.46471823, -0.18079804]])"
      ]
     },
     "execution_count": 6,
     "metadata": {},
     "output_type": "execute_result"
    }
   ],
   "source": [
    "PCA_X = pca.transform(X)\n",
    "PCA_X"
   ]
  },
  {
   "cell_type": "code",
   "execution_count": 7,
   "metadata": {},
   "outputs": [
    {
     "name": "stdout",
     "output_type": "stream",
     "text": [
      "[4.57457916 2.83515997 0.12311833 0.08322535 0.04104221]\n"
     ]
    },
    {
     "data": {
      "text/plain": [
       "array([4.57457916, 2.83515997])"
      ]
     },
     "execution_count": 7,
     "metadata": {},
     "output_type": "execute_result"
    }
   ],
   "source": [
    "# using cumalative method only two components have to be retained\n",
    "\n",
    "PCA_X_VAR = PCA_X.var(axis=0)\n",
    "\n",
    "print(PCA_X_VAR)\n",
    "PCA_X_VAR[PCA_X_VAR > PCA_X_VAR.mean()]\n",
    "\n",
    "# NUMBER OF DIMENSIONS\n",
    "# len(PCA_X_VAR[PCA_X_VAR > PCA_X_VAR.mean()])"
   ]
  },
  {
   "cell_type": "code",
   "execution_count": 10,
   "metadata": {},
   "outputs": [
    {
     "data": {
      "text/plain": [
       "[<matplotlib.lines.Line2D at 0x11908b588>]"
      ]
     },
     "execution_count": 10,
     "metadata": {},
     "output_type": "execute_result"
    },
    {
     "data": {
      "image/png": "[encoded data removed]",
      "text/plain": [
       "<Figure size 432x288 with 1 Axes>"
      ]
     },
     "metadata": {
      "needs_background": "light"
     },
     "output_type": "display_data"
    }
   ],
   "source": [
    "plot([1,2,3,4,5], PCA_X_VAR)"
   ]
  },
  {
   "cell_type": "code",
   "execution_count": null,
   "metadata": {},
   "outputs": [],
   "source": []
  }
 ],
 "metadata": {
  "kernelspec": {
   "display_name": "Python 3",
   "language": "python",
   "name": "python3"
  },
  "language_info": {
   "codemirror_mode": {
    "name": "ipython",
    "version": 3
   },
   "file_extension": ".py",
   "mimetype": "text/x-python",
   "name": "python",
   "nbconvert_exporter": "python",
   "pygments_lexer": "ipython3",
   "version": "3.6.5"
  }
 },
 "nbformat": 4,
 "nbformat_minor": 2
}
