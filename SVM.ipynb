{
 "cells": [
  {
   "cell_type": "code",
   "execution_count": 14,
   "metadata": {},
   "outputs": [],
   "source": [
    "import numpy as np\n",
    "import pandas as pd\n",
    "import seaborn as sns\n",
    "\n",
    "from sklearn import svm, metrics\n",
    "from sklearn.model_selection import train_test_split"
   ]
  },
  {
   "cell_type": "code",
   "execution_count": 15,
   "metadata": {},
   "outputs": [],
   "source": [
    "# MODIFYING DATA\n",
    "\n",
    "data = pd.read_csv('carbon_nanotubes.csv', sep=';')\n",
    "\n",
    "cols = data.columns\n",
    "\n",
    "for col in cols[2:]:\n",
    "    data[col] = data[col].str.replace(',', '.')\n",
    "    data[col] = data[col].astype(float)"
   ]
  },
  {
   "cell_type": "code",
   "execution_count": 18,
   "metadata": {},
   "outputs": [
    {
     "name": "stdout",
     "output_type": "stream",
     "text": [
      "MAE: \n",
      "0.05688761314447229\n",
      "\n",
      "MSE: \n",
      "0.003982057857847462\n",
      "\n",
      "RMSE: \n",
      "0.063103548694566\n",
      "\n",
      "Score (R^2): \n",
      "0.9525170177725829\n",
      "\n",
      "r2 Score: \n",
      "0.9525170177725829\n",
      "\n"
     ]
    },
    {
     "name": "stderr",
     "output_type": "stream",
     "text": [
      "/usr/local/lib/python3.6/site-packages/sklearn/utils/validation.py:761: DataConversionWarning: A column-vector y was passed when a 1d array was expected. Please change the shape of y to (n_samples, ), for example using ravel().\n",
      "  y = column_or_1d(y, warn=True)\n",
      "/usr/local/lib/python3.6/site-packages/sklearn/svm/base.py:196: FutureWarning: The default value of gamma will change from 'auto' to 'scale' in version 0.22 to account better for unscaled features. Set gamma explicitly to 'auto' or 'scale' to avoid this warning.\n",
      "  \"avoid this warning.\", FutureWarning)\n"
     ]
    }
   ],
   "source": [
    "X = data.drop(['Calculated atomic coordinates u\\'', 'Calculated atomic coordinates v\\'', 'Calculated atomic coordinates w\\''], axis=1)\n",
    "Y = data.filter(['Calculated atomic coordinates u\\''], axis=1)\n",
    "\n",
    "train_X, test_X, train_Y, test_Y = train_test_split(X, Y, test_size=0.25)\n",
    "\n",
    "clf = svm.SVR()\n",
    "clf.fit(train_X, train_Y)\n",
    "\n",
    "predicted_values = clf.predict(test_X)\n",
    "\n",
    "'''\n",
    "    Model Evaluation Metrics for Regression\n",
    "'''\n",
    "\n",
    "from sklearn import metrics\n",
    "\n",
    "# MAE\n",
    "print('MAE: \\n{}\\n'.format(metrics.mean_absolute_error(test_Y, predicted_values)))\n",
    "\n",
    "# MSE\n",
    "print('MSE: \\n{}\\n'.format(metrics.mean_squared_error(test_Y, predicted_values)))\n",
    "\n",
    "# RMSE\n",
    "print('RMSE: \\n{}\\n'.format(np.sqrt(metrics.mean_squared_error(test_Y, predicted_values))))\n",
    "\n",
    "# SCORE\n",
    "print('Score (R^2): \\n{}\\n'.format(clf.score(test_X, test_Y)))\n",
    "\n",
    "print('r2 Score: \\n{}\\n'.format(metrics.r2_score(test_Y, predicted_values)))"
   ]
  },
  {
   "cell_type": "code",
   "execution_count": 19,
   "metadata": {},
   "outputs": [
    {
     "name": "stdout",
     "output_type": "stream",
     "text": [
      "MAE: \n",
      "0.057919353338777284\n",
      "\n",
      "MSE: \n",
      "0.004100141448853094\n",
      "\n",
      "RMSE: \n",
      "0.06403234689477728\n",
      "\n",
      "Score (R^2): \n",
      "0.9527894270886886\n",
      "\n",
      "r2 Score: \n",
      "0.9527894270886886\n",
      "\n"
     ]
    },
    {
     "name": "stderr",
     "output_type": "stream",
     "text": [
      "/usr/local/lib/python3.6/site-packages/sklearn/utils/validation.py:761: DataConversionWarning: A column-vector y was passed when a 1d array was expected. Please change the shape of y to (n_samples, ), for example using ravel().\n",
      "  y = column_or_1d(y, warn=True)\n",
      "/usr/local/lib/python3.6/site-packages/sklearn/svm/base.py:196: FutureWarning: The default value of gamma will change from 'auto' to 'scale' in version 0.22 to account better for unscaled features. Set gamma explicitly to 'auto' or 'scale' to avoid this warning.\n",
      "  \"avoid this warning.\", FutureWarning)\n"
     ]
    }
   ],
   "source": [
    "X = data.drop(['Calculated atomic coordinates u\\'', 'Calculated atomic coordinates v\\'', 'Calculated atomic coordinates w\\''], axis=1)\n",
    "Y = data.filter(['Calculated atomic coordinates v\\''], axis=1)\n",
    "\n",
    "train_X, test_X, train_Y, test_Y = train_test_split(X, Y, test_size=0.25)\n",
    "\n",
    "clf = svm.SVR()\n",
    "clf.fit(train_X, train_Y)\n",
    "\n",
    "predicted_values = clf.predict(test_X)\n",
    "\n",
    "'''\n",
    "    Model Evaluation Metrics for Regression\n",
    "'''\n",
    "\n",
    "from sklearn import metrics\n",
    "\n",
    "# MAE\n",
    "print('MAE: \\n{}\\n'.format(metrics.mean_absolute_error(test_Y, predicted_values)))\n",
    "\n",
    "# MSE\n",
    "print('MSE: \\n{}\\n'.format(metrics.mean_squared_error(test_Y, predicted_values)))\n",
    "\n",
    "# RMSE\n",
    "print('RMSE: \\n{}\\n'.format(np.sqrt(metrics.mean_squared_error(test_Y, predicted_values))))\n",
    "\n",
    "# SCORE\n",
    "print('Score (R^2): \\n{}\\n'.format(clf.score(test_X, test_Y)))\n",
    "\n",
    "print('r2 Score: \\n{}\\n'.format(metrics.r2_score(test_Y, predicted_values)))"
   ]
  },
  {
   "cell_type": "code",
   "execution_count": 20,
   "metadata": {},
   "outputs": [
    {
     "name": "stdout",
     "output_type": "stream",
     "text": [
      "MAE: \n",
      "0.04945692018080761\n",
      "\n",
      "MSE: \n",
      "0.003425928192972724\n",
      "\n",
      "RMSE: \n",
      "0.05853142910413792\n",
      "\n",
      "Score (R^2): \n",
      "0.9591017906043536\n",
      "\n",
      "r2 Score: \n",
      "0.9591017906043536\n",
      "\n"
     ]
    },
    {
     "name": "stderr",
     "output_type": "stream",
     "text": [
      "/usr/local/lib/python3.6/site-packages/sklearn/utils/validation.py:761: DataConversionWarning: A column-vector y was passed when a 1d array was expected. Please change the shape of y to (n_samples, ), for example using ravel().\n",
      "  y = column_or_1d(y, warn=True)\n",
      "/usr/local/lib/python3.6/site-packages/sklearn/svm/base.py:196: FutureWarning: The default value of gamma will change from 'auto' to 'scale' in version 0.22 to account better for unscaled features. Set gamma explicitly to 'auto' or 'scale' to avoid this warning.\n",
      "  \"avoid this warning.\", FutureWarning)\n"
     ]
    }
   ],
   "source": [
    "X = data.drop(['Calculated atomic coordinates u\\'', 'Calculated atomic coordinates v\\'', 'Calculated atomic coordinates w\\''], axis=1)\n",
    "Y = data.filter(['Calculated atomic coordinates w\\''], axis=1)\n",
    "\n",
    "train_X, test_X, train_Y, test_Y = train_test_split(X, Y, test_size=0.25)\n",
    "\n",
    "clf = svm.SVR()\n",
    "clf.fit(train_X, train_Y)\n",
    "\n",
    "predicted_values = clf.predict(test_X)\n",
    "\n",
    "'''\n",
    "    Model Evaluation Metrics for Regression\n",
    "'''\n",
    "\n",
    "from sklearn import metrics\n",
    "\n",
    "# MAE\n",
    "print('MAE: \\n{}\\n'.format(metrics.mean_absolute_error(test_Y, predicted_values)))\n",
    "\n",
    "# MSE\n",
    "print('MSE: \\n{}\\n'.format(metrics.mean_squared_error(test_Y, predicted_values)))\n",
    "\n",
    "# RMSE\n",
    "print('RMSE: \\n{}\\n'.format(np.sqrt(metrics.mean_squared_error(test_Y, predicted_values))))\n",
    "\n",
    "# SCORE\n",
    "print('Score (R^2): \\n{}\\n'.format(clf.score(test_X, test_Y)))\n",
    "\n",
    "print('r2 Score: \\n{}\\n'.format(metrics.r2_score(test_Y, predicted_values)))"
   ]
  },
  {
   "cell_type": "code",
   "execution_count": null,
   "metadata": {},
   "outputs": [],
   "source": []
  }
 ],
 "metadata": {
  "kernelspec": {
   "display_name": "Python 3",
   "language": "python",
   "name": "python3"
  },
  "language_info": {
   "codemirror_mode": {
    "name": "ipython",
    "version": 3
   },
   "file_extension": ".py",
   "mimetype": "text/x-python",
   "name": "python",
   "nbconvert_exporter": "python",
   "pygments_lexer": "ipython3",
   "version": "3.6.5"
  }
 },
 "nbformat": 4,
 "nbformat_minor": 2
}
