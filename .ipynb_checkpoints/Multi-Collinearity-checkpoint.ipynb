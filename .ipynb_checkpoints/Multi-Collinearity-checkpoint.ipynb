{
 "cells": [
  {
   "cell_type": "code",
   "execution_count": 28,
   "metadata": {},
   "outputs": [
    {
     "data": {
      "text/plain": [
       "'\\n    MULTI-COLLINEARITY\\n'"
      ]
     },
     "execution_count": 28,
     "metadata": {},
     "output_type": "execute_result"
    }
   ],
   "source": [
    "'''\n",
    "    MULTI-COLLINEARITY\n",
    "'''"
   ]
  },
  {
   "cell_type": "code",
   "execution_count": 29,
   "metadata": {},
   "outputs": [],
   "source": [
    "import numpy as np\n",
    "import pandas as pd\n",
    "import seaborn as sns"
   ]
  },
  {
   "cell_type": "code",
   "execution_count": 30,
   "metadata": {},
   "outputs": [],
   "source": [
    "'''\n",
    "    UTILITY FUNCTIONS\n",
    "'''\n",
    "\n",
    "def printVIF(cols, VIF):\n",
    "    out = zip(cols, VIF)\n",
    "    s = ''\n",
    "    for i in out:\n",
    "        s += str(i) + \"\\n\"\n",
    "    return s"
   ]
  },
  {
   "cell_type": "code",
   "execution_count": 31,
   "metadata": {},
   "outputs": [
    {
     "data": {
      "text/html": [
       "<div>\n",
       "<style scoped>\n",
       "    .dataframe tbody tr th:only-of-type {\n",
       "        vertical-align: middle;\n",
       "    }\n",
       "\n",
       "    .dataframe tbody tr th {\n",
       "        vertical-align: top;\n",
       "    }\n",
       "\n",
       "    .dataframe thead th {\n",
       "        text-align: right;\n",
       "    }\n",
       "</style>\n",
       "<table border=\"1\" class=\"dataframe\">\n",
       "  <thead>\n",
       "    <tr style=\"text-align: right;\">\n",
       "      <th></th>\n",
       "      <th>Chiral indice n</th>\n",
       "      <th>Chiral indice m</th>\n",
       "      <th>Initial atomic coordinate u</th>\n",
       "      <th>Initial atomic coordinate v</th>\n",
       "      <th>Initial atomic coordinate w</th>\n",
       "    </tr>\n",
       "  </thead>\n",
       "  <tbody>\n",
       "    <tr>\n",
       "      <th>0</th>\n",
       "      <td>2</td>\n",
       "      <td>1</td>\n",
       "      <td>0.679005</td>\n",
       "      <td>0.701318</td>\n",
       "      <td>0.017033</td>\n",
       "    </tr>\n",
       "    <tr>\n",
       "      <th>1</th>\n",
       "      <td>2</td>\n",
       "      <td>1</td>\n",
       "      <td>0.717298</td>\n",
       "      <td>0.642129</td>\n",
       "      <td>0.231319</td>\n",
       "    </tr>\n",
       "    <tr>\n",
       "      <th>2</th>\n",
       "      <td>2</td>\n",
       "      <td>1</td>\n",
       "      <td>0.489336</td>\n",
       "      <td>0.303751</td>\n",
       "      <td>0.088462</td>\n",
       "    </tr>\n",
       "    <tr>\n",
       "      <th>3</th>\n",
       "      <td>2</td>\n",
       "      <td>1</td>\n",
       "      <td>0.413957</td>\n",
       "      <td>0.632996</td>\n",
       "      <td>0.040843</td>\n",
       "    </tr>\n",
       "    <tr>\n",
       "      <th>4</th>\n",
       "      <td>2</td>\n",
       "      <td>1</td>\n",
       "      <td>0.334292</td>\n",
       "      <td>0.543401</td>\n",
       "      <td>0.159890</td>\n",
       "    </tr>\n",
       "  </tbody>\n",
       "</table>\n",
       "</div>"
      ],
      "text/plain": [
       "   Chiral indice n  Chiral indice m  Initial atomic coordinate u  \\\n",
       "0                2                1                     0.679005   \n",
       "1                2                1                     0.717298   \n",
       "2                2                1                     0.489336   \n",
       "3                2                1                     0.413957   \n",
       "4                2                1                     0.334292   \n",
       "\n",
       "   Initial atomic coordinate v  Initial atomic coordinate w  \n",
       "0                     0.701318                     0.017033  \n",
       "1                     0.642129                     0.231319  \n",
       "2                     0.303751                     0.088462  \n",
       "3                     0.632996                     0.040843  \n",
       "4                     0.543401                     0.159890  "
      ]
     },
     "execution_count": 31,
     "metadata": {},
     "output_type": "execute_result"
    }
   ],
   "source": [
    "# MODIFYING DATA\n",
    "\n",
    "data = pd.read_csv('carbon_nanotubes.csv', sep=';')\n",
    "\n",
    "cols = data.columns\n",
    "\n",
    "for col in cols[2:]:\n",
    "    data[col] = data[col].str.replace(',', '.')\n",
    "    data[col] = data[col].astype(float)\n",
    "    \n",
    "# data.head()\n",
    "data = data.iloc[:, :5]\n",
    "data.head()"
   ]
  },
  {
   "cell_type": "code",
   "execution_count": 32,
   "metadata": {},
   "outputs": [
    {
     "name": "stdout",
     "output_type": "stream",
     "text": [
      "VIF Values: \n",
      "('Chiral indice n', 1.0002431922216795)\n",
      "('Chiral indice m', 1.000145640191874)\n",
      "('Initial atomic coordinate u', 1.3290965687744658)\n",
      "('Initial atomic coordinate v', 1.3332487157125954)\n",
      "('Initial atomic coordinate w', 1.0001140719878288)\n",
      "\n",
      "\n"
     ]
    }
   ],
   "source": [
    "from sklearn.linear_model import LinearRegression\n",
    "from sklearn.metrics import accuracy_score, roc_auc_score\n",
    "from sklearn.model_selection import train_test_split\n",
    "\n",
    "R2_value = []\n",
    "for col in data.columns:\n",
    "    X = data.drop([col], axis=1)\n",
    "    Y = data.filter([col], axis=1)\n",
    "    \n",
    "    train_X, test_X, train_Y, test_Y = train_test_split(X, Y, test_size=0.25)\n",
    "    reg = LinearRegression().fit(train_X, train_Y)\n",
    "    score = reg.score(train_X, train_Y)\n",
    "    R2_value.append(score)\n",
    "    \n",
    "VIF = [1.0/(1-i) for i in R2_value]\n",
    "\n",
    "print('VIF Values: \\n{}\\n'.format(printVIF(data.columns, VIF)))"
   ]
  },
  {
   "cell_type": "code",
   "execution_count": null,
   "metadata": {},
   "outputs": [],
   "source": []
  }
 ],
 "metadata": {
  "kernelspec": {
   "display_name": "Python 3",
   "language": "python",
   "name": "python3"
  },
  "language_info": {
   "codemirror_mode": {
    "name": "ipython",
    "version": 3
   },
   "file_extension": ".py",
   "mimetype": "text/x-python",
   "name": "python",
   "nbconvert_exporter": "python",
   "pygments_lexer": "ipython3",
   "version": "3.6.3"
  }
 },
 "nbformat": 4,
 "nbformat_minor": 2
}
