{
 "cells": [
  {
   "cell_type": "code",
   "execution_count": 9,
   "metadata": {},
   "outputs": [],
   "source": [
    "import numpy as np\n",
    "import pandas as pd\n",
    "import seaborn as sns\n",
    "\n",
    "from sklearn.decomposition import PCA\n",
    "\n",
    "from sklearn.linear_model import LinearRegression\n",
    "from sklearn.metrics import accuracy_score, roc_auc_score\n",
    "from sklearn.model_selection import train_test_split"
   ]
  },
  {
   "cell_type": "code",
   "execution_count": 10,
   "metadata": {},
   "outputs": [
    {
     "data": {
      "text/plain": [
       "array([[ 6.21606245, -2.36266666],\n",
       "       [ 6.21604799, -2.36275527],\n",
       "       [ 6.21603942, -2.36270964],\n",
       "       ...,\n",
       "       [-3.76325628,  2.67825267],\n",
       "       [-3.76326204,  2.67820464],\n",
       "       [-3.76325952,  2.67819741]])"
      ]
     },
     "execution_count": 10,
     "metadata": {},
     "output_type": "execute_result"
    }
   ],
   "source": [
    "# MODIFYING DATA\n",
    "\n",
    "data = pd.read_csv('carbon_nanotubes.csv', sep=';')\n",
    "\n",
    "cols = data.columns\n",
    "\n",
    "for col in cols[2:]:\n",
    "    data[col] = data[col].str.replace(',', '.')\n",
    "    data[col] = data[col].astype(float)\n",
    "    \n",
    "X = data.iloc[:, :5]\n",
    "Y = data.iloc[:, 5:]\n",
    "\n",
    "pca = PCA(n_components=2)\n",
    "pca.fit(X) \n",
    "\n",
    "PCA_X = pca.transform(X)\n",
    "PCA_X"
   ]
  },
  {
   "cell_type": "code",
   "execution_count": 11,
   "metadata": {},
   "outputs": [
    {
     "name": "stdout",
     "output_type": "stream",
     "text": [
      "Parameters: \n",
      "[[ 0.00061534  0.00021481  0.00136288]\n",
      " [-0.00056025  0.00206902 -0.00065897]]\n",
      "\n",
      "Intercept: \n",
      "[0.49901491 0.4987691  0.5022    ]\n",
      "\n"
     ]
    }
   ],
   "source": [
    "train_X, test_X, train_Y, test_Y = train_test_split(PCA_X, Y, test_size=0.25)\n",
    "\n",
    "reg = LinearRegression().fit(train_X, train_Y)\n",
    "\n",
    "print('Parameters: \\n{}\\n'.format(reg.coef_.transpose()))\n",
    "print('Intercept: \\n{}\\n'.format(reg.intercept_.transpose()))\n",
    "\n",
    "# print reg.coef_.transpose().round()\n",
    "\n",
    "predicted_values = reg.predict(test_X)\n",
    "# print('Predictions: \\n{}\\n'.format(reg.predict(test_X)))"
   ]
  },
  {
   "cell_type": "code",
   "execution_count": 12,
   "metadata": {},
   "outputs": [
    {
     "name": "stdout",
     "output_type": "stream",
     "text": [
      "MAE: \n",
      "0.25704066616295723\n",
      "\n",
      "MSE: \n",
      "0.08395982314604102\n",
      "\n",
      "RMSE: \n",
      "0.28975821497593646\n",
      "\n",
      "Score (R^2): \n",
      "-0.0012211434900093402\n",
      "\n",
      "r2 Score: \n",
      "-0.001224437105553866\n",
      "\n"
     ]
    }
   ],
   "source": [
    "'''\n",
    "    Model Evaluation Metrics for Regression\n",
    "'''\n",
    "\n",
    "from sklearn import metrics\n",
    "\n",
    "# MAE\n",
    "print('MAE: \\n{}\\n'.format(metrics.mean_absolute_error(test_Y, predicted_values)))\n",
    "\n",
    "# MSE\n",
    "print('MSE: \\n{}\\n'.format(metrics.mean_squared_error(test_Y, predicted_values)))\n",
    "\n",
    "# RMSE\n",
    "print('RMSE: \\n{}\\n'.format(np.sqrt(metrics.mean_squared_error(test_Y, predicted_values))))\n",
    "\n",
    "# SCORE\n",
    "print('Score (R^2): \\n{}\\n'.format(reg.score(test_X, test_Y)))\n",
    "\n",
    "print('r2 Score: \\n{}\\n'.format(metrics.r2_score(test_Y, predicted_values)))"
   ]
  },
  {
   "cell_type": "code",
   "execution_count": null,
   "metadata": {},
   "outputs": [],
   "source": []
  }
 ],
 "metadata": {
  "kernelspec": {
   "display_name": "Python 3",
   "language": "python",
   "name": "python3"
  },
  "language_info": {
   "codemirror_mode": {
    "name": "ipython",
    "version": 3
   },
   "file_extension": ".py",
   "mimetype": "text/x-python",
   "name": "python",
   "nbconvert_exporter": "python",
   "pygments_lexer": "ipython3",
   "version": "3.6.5"
  }
 },
 "nbformat": 4,
 "nbformat_minor": 2
}
